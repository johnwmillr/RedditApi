{
 "cells": [
  {
   "cell_type": "code",
   "execution_count": 1,
   "metadata": {},
   "outputs": [],
   "source": [
    "import requests\n",
    "import requests.auth\n",
    "import praw\n",
    "import pandas as pd\n",
    "import matplotlib.pyplot as plt\n",
    "import seaborn as sns"
   ]
  },
  {
   "cell_type": "markdown",
   "metadata": {},
   "source": [
    "# OAuth2 quick start\n",
    "\n",
    "https://github.com/reddit-archive/reddit/wiki/OAuth2-Quick-Start-Example"
   ]
  },
  {
   "cell_type": "code",
   "execution_count": 2,
   "metadata": {},
   "outputs": [],
   "source": [
    "# Load the credentials\n",
    "credentials = {}\n",
    "with open(\"credentials.txt\", \"r\") as infile:\n",
    "    for line in infile.readlines():\n",
    "        key, val = line.strip().split(\": \")\n",
    "        credentials[key] = val"
   ]
  },
  {
   "cell_type": "markdown",
   "metadata": {},
   "source": [
    "## Request a token"
   ]
  },
  {
   "cell_type": "code",
   "execution_count": 10,
   "metadata": {},
   "outputs": [],
   "source": [
    "client_auth = requests.auth.HTTPBasicAuth(credentials[\"client_id\"], credentials[\"secret\"])\n",
    "post_data = {\"grant_type\": \"password\", \"username\": credentials[\"username\"], \"password\": credentials[\"password\"]}\n",
    "user_agent = f\"reddit_api_python by {credentials['username']}\"\n",
    "headers = {\"User-Agent\": user_agent}\n",
    "uri = \"https://www.reddit.com/api/v1/access_token\"\n",
    "response = requests.post(uri, auth=client_auth, data=post_data, headers=headers)"
   ]
  },
  {
   "cell_type": "markdown",
   "metadata": {},
   "source": [
    "## Use the token"
   ]
  },
  {
   "cell_type": "code",
   "execution_count": 13,
   "metadata": {},
   "outputs": [],
   "source": [
    "auth = \" \".join(response.json()[key] for key in [\"token_type\", \"access_token\"])\n",
    "headers = {\"Authorization\": auth, \"User-Agent\": user_agent}\n",
    "uri = \"https://oauth.reddit.com/api/v1/me\"\n",
    "r = requests.get(uri, headers=headers)"
   ]
  },
  {
   "cell_type": "markdown",
   "metadata": {},
   "source": [
    "# Start the Reddit API client"
   ]
  },
  {
   "cell_type": "code",
   "execution_count": 17,
   "metadata": {},
   "outputs": [
    {
     "data": {
      "text/plain": [
       "<praw.reddit.Reddit at 0x11f5ea828>"
      ]
     },
     "execution_count": 17,
     "metadata": {},
     "output_type": "execute_result"
    }
   ],
   "source": [
    "reddit = praw.Reddit(client_id=credentials[\"client_id\"],\n",
    "                     client_secret=credentials[\"secret\"],\n",
    "                     password=credentials[\"password\"],\n",
    "                     username=credentials[\"username\"],\n",
    "                     user_agent=user_agent)\n",
    "reddit"
   ]
  },
  {
   "cell_type": "markdown",
   "metadata": {},
   "source": [
    "## Search the subreddit"
   ]
  },
  {
   "cell_type": "code",
   "execution_count": 18,
   "metadata": {},
   "outputs": [
    {
     "name": "stdout",
     "output_type": "stream",
     "text": [
      "Found 83 results for 'sankey'.\n",
      "Found 136 results for 'tinder'.\n",
      "Found 318 results for 'budget'.\n",
      "Found 538 results for 'monthly'.\n",
      "Found 619 results for 'expenses'.\n",
      "Found 708 results for 'lyrics'.\n"
     ]
    }
   ],
   "source": [
    "subreddit = reddit.subreddit(\"dataisbeautiful\")\n",
    "search_terms = [\"sankey\", \"tinder\", \"budget\", \"monthly\", \"expenses\", \"lyrics\"]\n",
    "results = []\n",
    "for query in search_terms:\n",
    "    search = subreddit.search(query, sort=\"new\", limit=None)\n",
    "    results.extend(list(search))\n",
    "    print(f\"Found {len(results)} results for '{query}'.\")"
   ]
  },
  {
   "cell_type": "markdown",
   "metadata": {},
   "source": [
    "# Make a plot"
   ]
  },
  {
   "cell_type": "code",
   "execution_count": 19,
   "metadata": {},
   "outputs": [],
   "source": [
    "posts = [r.__dict__ for r in results]\n",
    "data = (pd.DataFrame(posts)\n",
    "          .sort_values(by=\"created_utc\", ascending=True)\n",
    "          .drop_duplicates(subset=\"permalink\"))"
   ]
  },
  {
   "cell_type": "code",
   "execution_count": 20,
   "metadata": {},
   "outputs": [],
   "source": [
    "def term_is_in_comments(post, term):\n",
    "    \"\"\"Returns true if any comment in the post inclues the given term\"\"\"\n",
    "    comments = post.comments.list()\n",
    "    for comment in comments:\n",
    "        if isinstance(comment, praw.models.reddit.more.MoreComments):\n",
    "            comments.extend(comment.comments())\n",
    "        elif term in comment.body.lower():\n",
    "            print(comment.body)\n",
    "            return True\n",
    "    return False"
   ]
  },
  {
   "cell_type": "code",
   "execution_count": 21,
   "metadata": {},
   "outputs": [],
   "source": [
    "def contains_same_topic(post, topic):\n",
    "    \"\"\"Checks if a given post contains the same topic as the specified post\"\"\"\n",
    "    pass"
   ]
  },
  {
   "cell_type": "code",
   "execution_count": 23,
   "metadata": {},
   "outputs": [],
   "source": [
    "def check_topics(post):\n",
    "    topics = set()\n",
    "    for term in search_terms:\n",
    "        if term.lower() in post.title.lower():\n",
    "            topics.add(term)\n",
    "    return topics"
   ]
  },
  {
   "cell_type": "code",
   "execution_count": 24,
   "metadata": {},
   "outputs": [],
   "source": [
    "def number_of_followup_posts(post, weeks_after_post=1):\n",
    "    utc = post.created_utc\n",
    "    window = weeks_after_post * 7 * 24 * 60 * 60 # convert to seconds\n",
    "    mask = (data.created_utc > utc) & (data.created_utc <= (utc + window))\n",
    "    \n",
    "    # Check if the posts are actually follow ups\n",
    "    original_topics = check_topics(post)\n",
    "    if any(mask):\n",
    "        followups = data[mask]\n",
    "        return sum(followups.apply(check_topics, axis=1).apply(lambda x: len(x.intersection(original_topics)) > 0))\n",
    "    else:\n",
    "        return 0"
   ]
  },
  {
   "cell_type": "code",
   "execution_count": 25,
   "metadata": {},
   "outputs": [],
   "source": [
    "%%time\n",
    "data[\"number_of_followup_posts\"] = data.apply(number_of_followup_posts, axis=1)"
   ]
  },
  {
   "cell_type": "code",
   "execution_count": 27,
   "metadata": {},
   "outputs": [
    {
     "data": {
      "text/plain": [
       "<matplotlib.axes._subplots.AxesSubplot at 0x11fca0828>"
      ]
     },
     "execution_count": 27,
     "metadata": {},
     "output_type": "execute_result"
    },
    {
     "data": {
      "image/png": "[encoded data removed]",
      "text/plain": [
       "<Figure size 432x288 with 1 Axes>"
      ]
     },
     "metadata": {
      "needs_background": "light"
     },
     "output_type": "display_data"
    }
   ],
   "source": [
    "sns.regplot(data=data[data.ups >= 100], x=\"ups\", y=\"number_of_followup_posts\")"
   ]
  },
  {
   "cell_type": "code",
   "execution_count": 29,
   "metadata": {},
   "outputs": [
    {
     "data": {
      "image/png": "[encoded data removed]",
      "text/plain": [
       "<Figure size 864x432 with 1 Axes>"
      ]
     },
     "metadata": {
      "needs_background": "light"
     },
     "output_type": "display_data"
    }
   ],
   "source": [
    "# mask = (data.created_utc > 1.47e9) & (data.ups > 50)\n",
    "# mask = (data.created_utc > 1.51e9) & (data.ups >= 0) & (data.created_utc < 1.52e9)\n",
    "ax = data.plot.scatter(*[\"created_utc\", \"number_of_followup_posts\"], figsize=(12, 6))\n",
    "ax.plot(data[\"created_utc\"], data[\"ups\"] / 1000, \"r\", alpha=0.5, linewidth=2)\n",
    "ax.legend([\"Post's upvotes\", \"Number of similar posts in week after post\"])\n",
    "ax.set_title(\"Affect of popular /r/dataisbeautiful posts on 'copy cat' follow-up posts\")\n",
    "# ax.set_xlim([1.51e9, 1.52e9])\n",
    "plt.show()"
   ]
  },
  {
   "cell_type": "code",
   "execution_count": 26,
   "metadata": {},
   "outputs": [
    {
     "name": "stdout",
     "output_type": "stream",
     "text": [
      "reddit.com/r/dataisbeautiful/comments/7hb299/our_monthly_budget_austin_tx_usa_oc/\n",
      "reddit.com/r/dataisbeautiful/comments/7h99vj/where_my_monthly_paycheck_goes_japan_countryside/\n",
      "reddit.com/r/dataisbeautiful/comments/7hajbn/where_my_monthly_income_goes_as_a_british_student/\n",
      "reddit.com/r/dataisbeautiful/comments/7hasru/where_my_monthly_income_goes_as_a_single_parent/\n",
      "reddit.com/r/dataisbeautiful/comments/bpof9r/how_a_monthly_belgian_household_budget_of_7350_is/\n"
     ]
    }
   ],
   "source": [
    "N = 5\n",
    "mask = data.ups >= 5\n",
    "[print(\"reddit.com\" + p) for p in data[mask].sort_values(by=\"number_of_followup_posts\", ascending=False).head(N).permalink];"
   ]
  },
  {
   "cell_type": "code",
   "execution_count": null,
   "metadata": {},
   "outputs": [],
   "source": [
    "\n",
    "\n",
    "\n",
    "\n",
    "\n",
    "\n",
    "\n",
    "\n",
    "\n",
    "\n",
    "\n",
    "\n",
    "\n",
    "\n",
    "\n",
    "\n",
    "\n",
    "\n",
    "\n",
    "\n",
    "\n",
    "\n",
    "\n",
    "\n",
    "\n",
    "\n",
    "\n",
    "\n",
    "\n",
    "\n",
    "\n",
    "\n",
    "\n",
    "\n",
    "\n",
    "\n",
    "\n",
    "\n",
    "\n"
   ]
  }
 ],
 "metadata": {
  "kernelspec": {
   "display_name": "Python 3",
   "language": "python",
   "name": "python3"
  },
  "language_info": {
   "codemirror_mode": {
    "name": "ipython",
    "version": 3
   },
   "file_extension": ".py",
   "mimetype": "text/x-python",
   "name": "python",
   "nbconvert_exporter": "python",
   "pygments_lexer": "ipython3",
   "version": "3.6.5"
  }
 },
 "nbformat": 4,
 "nbformat_minor": 4
}
